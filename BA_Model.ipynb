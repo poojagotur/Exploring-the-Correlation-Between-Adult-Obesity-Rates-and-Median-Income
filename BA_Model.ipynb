{
  "cells": [
    {
      "cell_type": "code",
      "execution_count": null,
      "id": "11472b58",
      "metadata": {
        "id": "11472b58"
      },
      "outputs": [],
      "source": [
        "import numpy as np\n",
        "from sklearn.linear_model import LinearRegression\n",
        "import pandas as pd"
      ]
    },
    {
      "cell_type": "code",
      "execution_count": null,
      "id": "99bbafe0",
      "metadata": {
        "id": "99bbafe0"
      },
      "outputs": [],
      "source": [
        "model = LinearRegression()"
      ]
    },
    {
      "cell_type": "code",
      "execution_count": null,
      "id": "7ec6b7af",
      "metadata": {
        "id": "7ec6b7af"
      },
      "outputs": [],
      "source": [
        "df = pd.read_csv('Factors.csv')"
      ]
    },
    {
      "cell_type": "code",
      "execution_count": null,
      "id": "09c2a009",
      "metadata": {
        "scrolled": true,
        "id": "09c2a009",
        "outputId": "68575d66-ec94-4efb-8380-9c9660fde264"
      },
      "outputs": [
        {
          "data": {
            "text/html": [
              "<div>\n",
              "<style scoped>\n",
              "    .dataframe tbody tr th:only-of-type {\n",
              "        vertical-align: middle;\n",
              "    }\n",
              "\n",
              "    .dataframe tbody tr th {\n",
              "        vertical-align: top;\n",
              "    }\n",
              "\n",
              "    .dataframe thead th {\n",
              "        text-align: right;\n",
              "    }\n",
              "</style>\n",
              "<table border=\"1\" class=\"dataframe\">\n",
              "  <thead>\n",
              "    <tr style=\"text-align: right;\">\n",
              "      <th></th>\n",
              "      <th>Unnamed: 0</th>\n",
              "      <th>year</th>\n",
              "      <th>state</th>\n",
              "      <th>rate</th>\n",
              "      <th>White</th>\n",
              "      <th>Black or African American</th>\n",
              "      <th>median_income</th>\n",
              "      <th>% educated</th>\n",
              "      <th>modified_wage</th>\n",
              "    </tr>\n",
              "  </thead>\n",
              "  <tbody>\n",
              "    <tr>\n",
              "      <th>0</th>\n",
              "      <td>0</td>\n",
              "      <td>2020</td>\n",
              "      <td>Florida</td>\n",
              "      <td>28.4</td>\n",
              "      <td>71.6</td>\n",
              "      <td>15.9</td>\n",
              "      <td>60460.0</td>\n",
              "      <td>28.462948</td>\n",
              "      <td>8.959706</td>\n",
              "    </tr>\n",
              "    <tr>\n",
              "      <th>1</th>\n",
              "      <td>1</td>\n",
              "      <td>2020</td>\n",
              "      <td>West Virginia</td>\n",
              "      <td>39.1</td>\n",
              "      <td>92.5</td>\n",
              "      <td>3.6</td>\n",
              "      <td>54396.0</td>\n",
              "      <td>19.938580</td>\n",
              "      <td>9.158578</td>\n",
              "    </tr>\n",
              "    <tr>\n",
              "      <th>2</th>\n",
              "      <td>2</td>\n",
              "      <td>2020</td>\n",
              "      <td>Kentucky</td>\n",
              "      <td>36.6</td>\n",
              "      <td>86.2</td>\n",
              "      <td>8.1</td>\n",
              "      <td>59405.0</td>\n",
              "      <td>23.130746</td>\n",
              "      <td>7.588536</td>\n",
              "    </tr>\n",
              "    <tr>\n",
              "      <th>3</th>\n",
              "      <td>3</td>\n",
              "      <td>2020</td>\n",
              "      <td>Alabama</td>\n",
              "      <td>39.0</td>\n",
              "      <td>67.5</td>\n",
              "      <td>26.6</td>\n",
              "      <td>57243.0</td>\n",
              "      <td>24.034372</td>\n",
              "      <td>7.588536</td>\n",
              "    </tr>\n",
              "    <tr>\n",
              "      <th>4</th>\n",
              "      <td>4</td>\n",
              "      <td>2020</td>\n",
              "      <td>Oklahoma</td>\n",
              "      <td>36.4</td>\n",
              "      <td>71.1</td>\n",
              "      <td>7.3</td>\n",
              "      <td>54921.0</td>\n",
              "      <td>23.810112</td>\n",
              "      <td>7.588536</td>\n",
              "    </tr>\n",
              "    <tr>\n",
              "      <th>...</th>\n",
              "      <td>...</td>\n",
              "      <td>...</td>\n",
              "      <td>...</td>\n",
              "      <td>...</td>\n",
              "      <td>...</td>\n",
              "      <td>...</td>\n",
              "      <td>...</td>\n",
              "      <td>...</td>\n",
              "      <td>...</td>\n",
              "    </tr>\n",
              "    <tr>\n",
              "      <th>453</th>\n",
              "      <td>453</td>\n",
              "      <td>2012</td>\n",
              "      <td>California</td>\n",
              "      <td>25.0</td>\n",
              "      <td>62.1</td>\n",
              "      <td>6.0</td>\n",
              "      <td>67410.0</td>\n",
              "      <td>27.827606</td>\n",
              "      <td>9.457778</td>\n",
              "    </tr>\n",
              "    <tr>\n",
              "      <th>454</th>\n",
              "      <td>454</td>\n",
              "      <td>2012</td>\n",
              "      <td>Massachusetts</td>\n",
              "      <td>22.9</td>\n",
              "      <td>80.1</td>\n",
              "      <td>7.1</td>\n",
              "      <td>75256.0</td>\n",
              "      <td>36.084897</td>\n",
              "      <td>9.457778</td>\n",
              "    </tr>\n",
              "    <tr>\n",
              "      <th>455</th>\n",
              "      <td>455</td>\n",
              "      <td>2012</td>\n",
              "      <td>Colorado</td>\n",
              "      <td>20.5</td>\n",
              "      <td>84.4</td>\n",
              "      <td>4.2</td>\n",
              "      <td>67688.0</td>\n",
              "      <td>34.008391</td>\n",
              "      <td>9.032178</td>\n",
              "    </tr>\n",
              "    <tr>\n",
              "      <th>456</th>\n",
              "      <td>456</td>\n",
              "      <td>2012</td>\n",
              "      <td>Hawaii</td>\n",
              "      <td>23.6</td>\n",
              "      <td>24.9</td>\n",
              "      <td>1.8</td>\n",
              "      <td>66515.0</td>\n",
              "      <td>27.405907</td>\n",
              "      <td>8.571111</td>\n",
              "    </tr>\n",
              "    <tr>\n",
              "      <th>457</th>\n",
              "      <td>457</td>\n",
              "      <td>2012</td>\n",
              "      <td>District of Columbia</td>\n",
              "      <td>21.9</td>\n",
              "      <td>39.6</td>\n",
              "      <td>49.5</td>\n",
              "      <td>77135.0</td>\n",
              "      <td>48.409591</td>\n",
              "      <td>9.753333</td>\n",
              "    </tr>\n",
              "  </tbody>\n",
              "</table>\n",
              "<p>458 rows × 9 columns</p>\n",
              "</div>"
            ],
            "text/plain": [
              "     Unnamed: 0  year                 state  rate  White  \\\n",
              "0             0  2020               Florida  28.4   71.6   \n",
              "1             1  2020         West Virginia  39.1   92.5   \n",
              "2             2  2020              Kentucky  36.6   86.2   \n",
              "3             3  2020               Alabama  39.0   67.5   \n",
              "4             4  2020              Oklahoma  36.4   71.1   \n",
              "..          ...   ...                   ...   ...    ...   \n",
              "453         453  2012            California  25.0   62.1   \n",
              "454         454  2012         Massachusetts  22.9   80.1   \n",
              "455         455  2012              Colorado  20.5   84.4   \n",
              "456         456  2012                Hawaii  23.6   24.9   \n",
              "457         457  2012  District of Columbia  21.9   39.6   \n",
              "\n",
              "     Black or African American  median_income  % educated  modified_wage  \n",
              "0                         15.9        60460.0   28.462948       8.959706  \n",
              "1                          3.6        54396.0   19.938580       9.158578  \n",
              "2                          8.1        59405.0   23.130746       7.588536  \n",
              "3                         26.6        57243.0   24.034372       7.588536  \n",
              "4                          7.3        54921.0   23.810112       7.588536  \n",
              "..                         ...            ...         ...            ...  \n",
              "453                        6.0        67410.0   27.827606       9.457778  \n",
              "454                        7.1        75256.0   36.084897       9.457778  \n",
              "455                        4.2        67688.0   34.008391       9.032178  \n",
              "456                        1.8        66515.0   27.405907       8.571111  \n",
              "457                       49.5        77135.0   48.409591       9.753333  \n",
              "\n",
              "[458 rows x 9 columns]"
            ]
          },
          "execution_count": 113,
          "metadata": {},
          "output_type": "execute_result"
        }
      ],
      "source": [
        "df"
      ]
    },
    {
      "cell_type": "code",
      "execution_count": null,
      "id": "286386a5",
      "metadata": {
        "scrolled": true,
        "id": "286386a5",
        "outputId": "0ca97951-45a4-4554-f441-dee23feb9af6"
      },
      "outputs": [
        {
          "data": {
            "text/plain": [
              "Unnamed: 0                     int64\n",
              "year                           int64\n",
              "state                         object\n",
              "rate                         float64\n",
              "White                        float64\n",
              "Black or African American    float64\n",
              "median_income                float64\n",
              "% educated                   float64\n",
              "modified_wage                float64\n",
              "dtype: object"
            ]
          },
          "execution_count": 114,
          "metadata": {},
          "output_type": "execute_result"
        }
      ],
      "source": [
        "df.dtypes"
      ]
    },
    {
      "cell_type": "code",
      "execution_count": null,
      "id": "3d488840",
      "metadata": {
        "id": "3d488840"
      },
      "outputs": [],
      "source": [
        "df1 = df.copy()"
      ]
    },
    {
      "cell_type": "code",
      "execution_count": null,
      "id": "2f75594c",
      "metadata": {
        "id": "2f75594c"
      },
      "outputs": [],
      "source": [
        "Y = df1['rate']"
      ]
    },
    {
      "cell_type": "code",
      "execution_count": null,
      "id": "98fdf499",
      "metadata": {
        "id": "98fdf499"
      },
      "outputs": [],
      "source": [
        "df1.drop('rate', inplace = True, axis = 1)\n",
        "df1.drop('state', inplace = True, axis = 1)\n",
        "df1.drop('Unnamed: 0', inplace = True, axis = 1)"
      ]
    },
    {
      "cell_type": "code",
      "execution_count": null,
      "id": "7227ce66",
      "metadata": {
        "id": "7227ce66"
      },
      "outputs": [],
      "source": [
        "df1['median_income'] = df1['median_income']/1000"
      ]
    },
    {
      "cell_type": "code",
      "execution_count": null,
      "id": "863f7480",
      "metadata": {
        "id": "863f7480"
      },
      "outputs": [],
      "source": [
        "X = df1"
      ]
    },
    {
      "cell_type": "code",
      "execution_count": null,
      "id": "0e82889a",
      "metadata": {
        "id": "0e82889a",
        "outputId": "0501237b-8b26-4e5b-99e6-bd006b036b00"
      },
      "outputs": [
        {
          "data": {
            "text/html": [
              "<div>\n",
              "<style scoped>\n",
              "    .dataframe tbody tr th:only-of-type {\n",
              "        vertical-align: middle;\n",
              "    }\n",
              "\n",
              "    .dataframe tbody tr th {\n",
              "        vertical-align: top;\n",
              "    }\n",
              "\n",
              "    .dataframe thead th {\n",
              "        text-align: right;\n",
              "    }\n",
              "</style>\n",
              "<table border=\"1\" class=\"dataframe\">\n",
              "  <thead>\n",
              "    <tr style=\"text-align: right;\">\n",
              "      <th></th>\n",
              "      <th>year</th>\n",
              "      <th>White</th>\n",
              "      <th>Black or African American</th>\n",
              "      <th>median_income</th>\n",
              "      <th>% educated</th>\n",
              "      <th>modified_wage</th>\n",
              "    </tr>\n",
              "  </thead>\n",
              "  <tbody>\n",
              "    <tr>\n",
              "      <th>0</th>\n",
              "      <td>2020</td>\n",
              "      <td>71.6</td>\n",
              "      <td>15.9</td>\n",
              "      <td>60.460</td>\n",
              "      <td>28.462948</td>\n",
              "      <td>8.959706</td>\n",
              "    </tr>\n",
              "    <tr>\n",
              "      <th>1</th>\n",
              "      <td>2020</td>\n",
              "      <td>92.5</td>\n",
              "      <td>3.6</td>\n",
              "      <td>54.396</td>\n",
              "      <td>19.938580</td>\n",
              "      <td>9.158578</td>\n",
              "    </tr>\n",
              "    <tr>\n",
              "      <th>2</th>\n",
              "      <td>2020</td>\n",
              "      <td>86.2</td>\n",
              "      <td>8.1</td>\n",
              "      <td>59.405</td>\n",
              "      <td>23.130746</td>\n",
              "      <td>7.588536</td>\n",
              "    </tr>\n",
              "    <tr>\n",
              "      <th>3</th>\n",
              "      <td>2020</td>\n",
              "      <td>67.5</td>\n",
              "      <td>26.6</td>\n",
              "      <td>57.243</td>\n",
              "      <td>24.034372</td>\n",
              "      <td>7.588536</td>\n",
              "    </tr>\n",
              "    <tr>\n",
              "      <th>4</th>\n",
              "      <td>2020</td>\n",
              "      <td>71.1</td>\n",
              "      <td>7.3</td>\n",
              "      <td>54.921</td>\n",
              "      <td>23.810112</td>\n",
              "      <td>7.588536</td>\n",
              "    </tr>\n",
              "    <tr>\n",
              "      <th>...</th>\n",
              "      <td>...</td>\n",
              "      <td>...</td>\n",
              "      <td>...</td>\n",
              "      <td>...</td>\n",
              "      <td>...</td>\n",
              "      <td>...</td>\n",
              "    </tr>\n",
              "    <tr>\n",
              "      <th>453</th>\n",
              "      <td>2012</td>\n",
              "      <td>62.1</td>\n",
              "      <td>6.0</td>\n",
              "      <td>67.410</td>\n",
              "      <td>27.827606</td>\n",
              "      <td>9.457778</td>\n",
              "    </tr>\n",
              "    <tr>\n",
              "      <th>454</th>\n",
              "      <td>2012</td>\n",
              "      <td>80.1</td>\n",
              "      <td>7.1</td>\n",
              "      <td>75.256</td>\n",
              "      <td>36.084897</td>\n",
              "      <td>9.457778</td>\n",
              "    </tr>\n",
              "    <tr>\n",
              "      <th>455</th>\n",
              "      <td>2012</td>\n",
              "      <td>84.4</td>\n",
              "      <td>4.2</td>\n",
              "      <td>67.688</td>\n",
              "      <td>34.008391</td>\n",
              "      <td>9.032178</td>\n",
              "    </tr>\n",
              "    <tr>\n",
              "      <th>456</th>\n",
              "      <td>2012</td>\n",
              "      <td>24.9</td>\n",
              "      <td>1.8</td>\n",
              "      <td>66.515</td>\n",
              "      <td>27.405907</td>\n",
              "      <td>8.571111</td>\n",
              "    </tr>\n",
              "    <tr>\n",
              "      <th>457</th>\n",
              "      <td>2012</td>\n",
              "      <td>39.6</td>\n",
              "      <td>49.5</td>\n",
              "      <td>77.135</td>\n",
              "      <td>48.409591</td>\n",
              "      <td>9.753333</td>\n",
              "    </tr>\n",
              "  </tbody>\n",
              "</table>\n",
              "<p>458 rows × 6 columns</p>\n",
              "</div>"
            ],
            "text/plain": [
              "     year  White  Black or African American  median_income  % educated  \\\n",
              "0    2020   71.6                       15.9         60.460   28.462948   \n",
              "1    2020   92.5                        3.6         54.396   19.938580   \n",
              "2    2020   86.2                        8.1         59.405   23.130746   \n",
              "3    2020   67.5                       26.6         57.243   24.034372   \n",
              "4    2020   71.1                        7.3         54.921   23.810112   \n",
              "..    ...    ...                        ...            ...         ...   \n",
              "453  2012   62.1                        6.0         67.410   27.827606   \n",
              "454  2012   80.1                        7.1         75.256   36.084897   \n",
              "455  2012   84.4                        4.2         67.688   34.008391   \n",
              "456  2012   24.9                        1.8         66.515   27.405907   \n",
              "457  2012   39.6                       49.5         77.135   48.409591   \n",
              "\n",
              "     modified_wage  \n",
              "0         8.959706  \n",
              "1         9.158578  \n",
              "2         7.588536  \n",
              "3         7.588536  \n",
              "4         7.588536  \n",
              "..             ...  \n",
              "453       9.457778  \n",
              "454       9.457778  \n",
              "455       9.032178  \n",
              "456       8.571111  \n",
              "457       9.753333  \n",
              "\n",
              "[458 rows x 6 columns]"
            ]
          },
          "execution_count": 124,
          "metadata": {},
          "output_type": "execute_result"
        }
      ],
      "source": [
        "X"
      ]
    },
    {
      "cell_type": "code",
      "execution_count": null,
      "id": "09fc2700",
      "metadata": {
        "id": "09fc2700"
      },
      "outputs": [],
      "source": [
        "import statsmodels.api as sm"
      ]
    },
    {
      "cell_type": "code",
      "execution_count": null,
      "id": "92d5884e",
      "metadata": {
        "id": "92d5884e"
      },
      "outputs": [],
      "source": [
        "X = sm.add_constant(X)"
      ]
    },
    {
      "cell_type": "code",
      "execution_count": null,
      "id": "25a70835",
      "metadata": {
        "id": "25a70835"
      },
      "outputs": [],
      "source": [
        "model = sm.OLS(Y, X).fit()"
      ]
    },
    {
      "cell_type": "code",
      "execution_count": null,
      "id": "5f85bfb2",
      "metadata": {
        "id": "5f85bfb2",
        "outputId": "37d8846a-6d54-4c10-9387-5e2f6457697f"
      },
      "outputs": [
        {
          "name": "stdout",
          "output_type": "stream",
          "text": [
            "                            OLS Regression Results                            \n",
            "==============================================================================\n",
            "Dep. Variable:                   rate   R-squared:                       0.617\n",
            "Model:                            OLS   Adj. R-squared:                  0.612\n",
            "Method:                 Least Squares   F-statistic:                     121.0\n",
            "Date:                Sat, 03 Dec 2022   Prob (F-statistic):           1.07e-90\n",
            "Time:                        18:15:49   Log-Likelihood:                -1058.6\n",
            "No. Observations:                 458   AIC:                             2131.\n",
            "Df Residuals:                     451   BIC:                             2160.\n",
            "Df Model:                           6                                         \n",
            "Covariance Type:            nonrobust                                         \n",
            "=============================================================================================\n",
            "                                coef    std err          t      P>|t|      [0.025      0.975]\n",
            "---------------------------------------------------------------------------------------------\n",
            "const                     -1592.9313     95.067    -16.756      0.000   -1779.760   -1406.103\n",
            "year                          0.8095      0.047     17.109      0.000       0.717       0.903\n",
            "White                         0.0750      0.012      6.491      0.000       0.052       0.098\n",
            "Black or African American     0.1311      0.015      8.847      0.000       0.102       0.160\n",
            "median_income                -0.1017      0.014     -7.162      0.000      -0.130      -0.074\n",
            "% educated                   -0.1124      0.020     -5.503      0.000      -0.153      -0.072\n",
            "modified_wage                -0.7261      0.098     -7.387      0.000      -0.919      -0.533\n",
            "==============================================================================\n",
            "Omnibus:                        8.406   Durbin-Watson:                   1.366\n",
            "Prob(Omnibus):                  0.015   Jarque-Bera (JB):                8.461\n",
            "Skew:                          -0.332   Prob(JB):                       0.0145\n",
            "Kurtosis:                       3.049   Cond. No.                     1.67e+06\n",
            "==============================================================================\n",
            "\n",
            "Notes:\n",
            "[1] Standard Errors assume that the covariance matrix of the errors is correctly specified.\n",
            "[2] The condition number is large, 1.67e+06. This might indicate that there are\n",
            "strong multicollinearity or other numerical problems.\n"
          ]
        }
      ],
      "source": [
        "print(model.summary())"
      ]
    },
    {
      "cell_type": "code",
      "execution_count": null,
      "id": "ed43fa93",
      "metadata": {
        "id": "ed43fa93"
      },
      "outputs": [],
      "source": []
    }
  ],
  "metadata": {
    "kernelspec": {
      "display_name": "Python 3 (ipykernel)",
      "language": "python",
      "name": "python3"
    },
    "language_info": {
      "codemirror_mode": {
        "name": "ipython",
        "version": 3
      },
      "file_extension": ".py",
      "mimetype": "text/x-python",
      "name": "python",
      "nbconvert_exporter": "python",
      "pygments_lexer": "ipython3",
      "version": "3.9.12"
    },
    "toc": {
      "base_numbering": 1,
      "nav_menu": {},
      "number_sections": true,
      "sideBar": true,
      "skip_h1_title": false,
      "title_cell": "Table of Contents",
      "title_sidebar": "Contents",
      "toc_cell": false,
      "toc_position": {},
      "toc_section_display": true,
      "toc_window_display": false
    },
    "colab": {
      "provenance": []
    }
  },
  "nbformat": 4,
  "nbformat_minor": 5
}