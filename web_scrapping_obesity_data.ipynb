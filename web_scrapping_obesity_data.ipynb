{
 "cells": [
  {
   "cell_type": "code",
   "execution_count": 154,
   "metadata": {},
   "outputs": [],
   "source": [
    "import pandas as pd\n",
    "import numpy as np\n",
    "\n",
    "from selenium import webdriver\n",
    "from selenium.webdriver.support.ui import WebDriverWait\n",
    "from selenium.webdriver.support import expected_conditions as EC\n",
    "from selenium.webdriver.common.by import By\n",
    "from selenium.common.exceptions import TimeoutException\n",
    "from selenium.webdriver.support.ui import Select"
   ]
  },
  {
   "cell_type": "code",
   "execution_count": 171,
   "metadata": {},
   "outputs": [],
   "source": [
    "url = \"https://stateofchildhoodobesity.org/demographic-data/adult/\"\n",
    "\n",
    "driver = webdriver.Safari(executable_path = '/usr/bin/safaridriver')\n",
    "\n",
    "driver.get(url)\n",
    "\n",
    "timeout = 10 # seconds\n",
    "\n",
    "columns = ['year','rank','state','obesity_rate']\n",
    "data = pd.DataFrame(columns=columns)\n",
    "\n",
    "for i in range(2003,2022):\n",
    "\n",
    "    element_present = EC.presence_of_element_located((By.ID,\"year-select\"))\n",
    "    WebDriverWait(driver, timeout).until(element_present)\n",
    "\n",
    "    element_present = EC.presence_of_element_located((By.XPATH,\"//option[@value = '2019']\"))\n",
    "    WebDriverWait(driver, timeout).until(element_present)\n",
    "\n",
    "    year = i\n",
    "    code_snippet = \"document.getElementById('year-select').value = '\" + str(year) + \"'\"\n",
    "\n",
    "    driver.execute_script(\"document.getElementById('year-select').value = '2019'\")\n",
    "\n",
    "    element_present = EC.presence_of_element_located((By.CLASS_NAME,\"rank-column\"))\n",
    "    WebDriverWait(driver, timeout).until(element_present)\n",
    "\n",
    "    rank_column_elements = driver.find_elements(By.CLASS_NAME,\"rank-column\")\n",
    "    state_column_elements = driver.find_elements(By.CLASS_NAME,\"state-column\")\n",
    "    rate_column_elements = driver.find_elements(By.CLASS_NAME,\"rate-column\")\n",
    "\n",
    "    ranks = []\n",
    "    states = []\n",
    "    rates = []\n",
    "    cyear = []\n",
    "\n",
    "    for i in range(0,50):\n",
    "        ranks.append(rank_column_elements[i].text)\n",
    "        states.append(state_column_elements[i].text)\n",
    "        rates.append(rate_column_elements[i].find_element(By.CLASS_NAME,\"rate-text\").text)\n",
    "        cyear.append(year)\n",
    "\n",
    "    df = pd.DataFrame({'year': cyear,'rank':ranks,'state':states,'obesity_rate':rates},columns=columns)\n",
    "    data = pd.concat([data,df],)\n",
    "\n",
    "driver.close()"
   ]
  },
  {
   "cell_type": "code",
   "execution_count": 176,
   "metadata": {},
   "outputs": [
    {
     "data": {
      "text/html": [
       "<div>\n",
       "<style scoped>\n",
       "    .dataframe tbody tr th:only-of-type {\n",
       "        vertical-align: middle;\n",
       "    }\n",
       "\n",
       "    .dataframe tbody tr th {\n",
       "        vertical-align: top;\n",
       "    }\n",
       "\n",
       "    .dataframe thead th {\n",
       "        text-align: right;\n",
       "    }\n",
       "</style>\n",
       "<table border=\"1\" class=\"dataframe\">\n",
       "  <thead>\n",
       "    <tr style=\"text-align: right;\">\n",
       "      <th></th>\n",
       "      <th>year</th>\n",
       "      <th>rank</th>\n",
       "      <th>state</th>\n",
       "      <th>obesity_rate</th>\n",
       "    </tr>\n",
       "  </thead>\n",
       "  <tbody>\n",
       "    <tr>\n",
       "      <th>0</th>\n",
       "      <td>2003</td>\n",
       "      <td>1</td>\n",
       "      <td>\\n              West Virginia\\n</td>\n",
       "      <td>40.6%</td>\n",
       "    </tr>\n",
       "    <tr>\n",
       "      <th>1</th>\n",
       "      <td>2003</td>\n",
       "      <td>2</td>\n",
       "      <td>\\n              Kentucky\\n</td>\n",
       "      <td>40.3%</td>\n",
       "    </tr>\n",
       "    <tr>\n",
       "      <th>2</th>\n",
       "      <td>2003</td>\n",
       "      <td>3</td>\n",
       "      <td>\\n              Alabama\\n</td>\n",
       "      <td>39.9%</td>\n",
       "    </tr>\n",
       "    <tr>\n",
       "      <th>3</th>\n",
       "      <td>2003</td>\n",
       "      <td>4</td>\n",
       "      <td>\\n              Oklahoma\\n</td>\n",
       "      <td>39.4%</td>\n",
       "    </tr>\n",
       "    <tr>\n",
       "      <th>4</th>\n",
       "      <td>2003</td>\n",
       "      <td>5</td>\n",
       "      <td>\\n              Mississippi\\n</td>\n",
       "      <td>39.1%</td>\n",
       "    </tr>\n",
       "  </tbody>\n",
       "</table>\n",
       "</div>"
      ],
      "text/plain": [
       "   year rank                                        state obesity_rate\n",
       "0  2003    1  \\n              West Virginia\\n                    40.6%\n",
       "1  2003    2       \\n              Kentucky\\n                    40.3%\n",
       "2  2003    3        \\n              Alabama\\n                    39.9%\n",
       "3  2003    4       \\n              Oklahoma\\n                    39.4%\n",
       "4  2003    5    \\n              Mississippi\\n                    39.1%"
      ]
     },
     "execution_count": 176,
     "metadata": {},
     "output_type": "execute_result"
    }
   ],
   "source": [
    "data = data.reindex()\n",
    "data.head()"
   ]
  },
  {
   "cell_type": "code",
   "execution_count": 173,
   "metadata": {},
   "outputs": [],
   "source": [
    "data.to_csv('obesity_rate.csv',index=False)"
   ]
  }
 ],
 "metadata": {
  "kernelspec": {
   "display_name": "Python 3.9.12 ('base')",
   "language": "python",
   "name": "python3"
  },
  "language_info": {
   "codemirror_mode": {
    "name": "ipython",
    "version": 3
   },
   "file_extension": ".py",
   "mimetype": "text/x-python",
   "name": "python",
   "nbconvert_exporter": "python",
   "pygments_lexer": "ipython3",
   "version": "3.9.12"
  },
  "orig_nbformat": 4,
  "vscode": {
   "interpreter": {
    "hash": "40d3a090f54c6569ab1632332b64b2c03c39dcf918b08424e98f38b5ae0af88f"
   }
  }
 },
 "nbformat": 4,
 "nbformat_minor": 2
}
