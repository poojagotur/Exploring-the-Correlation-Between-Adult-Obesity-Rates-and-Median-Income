{
  "cells": [
    {
      "cell_type": "code",
      "execution_count": null,
      "metadata": {
        "id": "dqAmbR6cximS"
      },
      "outputs": [],
      "source": [
        "import pandas as pd\n",
        "import numpy as np\n",
        "\n",
        "from selenium import webdriver\n",
        "from selenium.webdriver.support.ui import WebDriverWait\n",
        "from selenium.webdriver.support import expected_conditions as EC\n",
        "from selenium.webdriver.common.by import By\n",
        "from selenium.common.exceptions import TimeoutException\n",
        "from selenium.webdriver.support.ui import Select\n",
        "from selenium.webdriver.common.action_chains import ActionChains\n",
        "from selenium.webdriver.common.keys import Keys"
      ]
    },
    {
      "cell_type": "code",
      "execution_count": null,
      "metadata": {
        "id": "0z96ywYfximT"
      },
      "outputs": [],
      "source": [
        "def getData(date,year):\n",
        "\n",
        "    url = \"https://fred.stlouisfed.org/release/tables?rid=249&eid=259515&od=\" + date\n",
        "\n",
        "    driver = webdriver.Safari(executable_path = '/usr/bin/safaridriver')\n",
        "\n",
        "    driver.get(url)\n",
        "\n",
        "    t = driver.find_element(By.ID,\"release-elements-tree\")\n",
        "\n",
        "    tbody = t.find_element(By.TAG_NAME,\"tbody\")\n",
        "\n",
        "    rows = tbody.find_elements(By.TAG_NAME,\"tr\")\n",
        "\n",
        "    states = []\n",
        "    median_income = []\n",
        "    cyear = []\n",
        "\n",
        "    for i in rows:\n",
        "        states.append(i.find_elements(By.TAG_NAME,\"td\")[1].find_element(By.TAG_NAME,\"a\").text)\n",
        "        median_income.append(i.find_elements(By.TAG_NAME,\"td\")[2].text)\n",
        "        cyear.append(year)\n",
        "\n",
        "    driver.close()\n",
        "\n",
        "    df = pd.DataFrame({'year':cyear,'state':states,'median_income':median_income},columns=['year','state','median_income'])\n",
        "\n",
        "    return df"
      ]
    },
    {
      "cell_type": "code",
      "execution_count": null,
      "metadata": {
        "id": "v5aTZPsfximT",
        "outputId": "81ed9113-80d3-4ba2-ca6e-d5836358ea26"
      },
      "outputs": [
        {
          "data": {
            "text/html": [
              "<div>\n",
              "<style scoped>\n",
              "    .dataframe tbody tr th:only-of-type {\n",
              "        vertical-align: middle;\n",
              "    }\n",
              "\n",
              "    .dataframe tbody tr th {\n",
              "        vertical-align: top;\n",
              "    }\n",
              "\n",
              "    .dataframe thead th {\n",
              "        text-align: right;\n",
              "    }\n",
              "</style>\n",
              "<table border=\"1\" class=\"dataframe\">\n",
              "  <thead>\n",
              "    <tr style=\"text-align: right;\">\n",
              "      <th></th>\n",
              "      <th>year</th>\n",
              "      <th>state</th>\n",
              "      <th>median_income</th>\n",
              "    </tr>\n",
              "  </thead>\n",
              "  <tbody>\n",
              "    <tr>\n",
              "      <th>0</th>\n",
              "      <td>2003</td>\n",
              "      <td>The United States</td>\n",
              "      <td>\\n              63,967\\n</td>\n",
              "    </tr>\n",
              "    <tr>\n",
              "      <th>1</th>\n",
              "      <td>2003</td>\n",
              "      <td>Alabama</td>\n",
              "      <td>\\n              55,014\\n</td>\n",
              "    </tr>\n",
              "    <tr>\n",
              "      <th>2</th>\n",
              "      <td>2003</td>\n",
              "      <td>Alaska</td>\n",
              "      <td>\\n              76,547\\n</td>\n",
              "    </tr>\n",
              "    <tr>\n",
              "      <th>3</th>\n",
              "      <td>2003</td>\n",
              "      <td>Arizona</td>\n",
              "      <td>\\n              60,789\\n</td>\n",
              "    </tr>\n",
              "    <tr>\n",
              "      <th>4</th>\n",
              "      <td>2003</td>\n",
              "      <td>Arkansas</td>\n",
              "      <td>\\n              47,257\\n</td>\n",
              "    </tr>\n",
              "  </tbody>\n",
              "</table>\n",
              "</div>"
            ],
            "text/plain": [
              "   year              state                       median_income\n",
              "0  2003  The United States  \\n              63,967\\n          \n",
              "1  2003            Alabama  \\n              55,014\\n          \n",
              "2  2003             Alaska  \\n              76,547\\n          \n",
              "3  2003            Arizona  \\n              60,789\\n          \n",
              "4  2003           Arkansas  \\n              47,257\\n          "
            ]
          },
          "execution_count": 27,
          "metadata": {},
          "output_type": "execute_result"
        }
      ],
      "source": [
        "data = pd.DataFrame(columns=['year','state','median_income'])\n",
        "\n",
        "for i in range(2003,2022):\n",
        "    date = str(i) + \"-01-01\"\n",
        "    data = pd.concat([data,getData(date,str(i))])\n",
        "\n",
        "data.head()"
      ]
    },
    {
      "cell_type": "code",
      "execution_count": null,
      "metadata": {
        "id": "megCbQQ7ximU"
      },
      "outputs": [],
      "source": [
        "data.to_csv(\"median_income.csv\")"
      ]
    }
  ],
  "metadata": {
    "kernelspec": {
      "display_name": "Python 3.9.12 ('base')",
      "language": "python",
      "name": "python3"
    },
    "language_info": {
      "codemirror_mode": {
        "name": "ipython",
        "version": 3
      },
      "file_extension": ".py",
      "mimetype": "text/x-python",
      "name": "python",
      "nbconvert_exporter": "python",
      "pygments_lexer": "ipython3",
      "version": "3.9.12"
    },
    "orig_nbformat": 4,
    "vscode": {
      "interpreter": {
        "hash": "40d3a090f54c6569ab1632332b64b2c03c39dcf918b08424e98f38b5ae0af88f"
      }
    },
    "colab": {
      "provenance": []
    }
  },
  "nbformat": 4,
  "nbformat_minor": 0
}